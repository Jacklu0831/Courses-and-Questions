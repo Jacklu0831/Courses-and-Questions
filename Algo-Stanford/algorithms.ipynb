{
  "nbformat": 4,
  "nbformat_minor": 0,
  "metadata": {
    "colab": {
      "name": "algorithms.ipynb",
      "provenance": []
    },
    "kernelspec": {
      "name": "python3",
      "display_name": "Python 3"
    }
  },
  "cells": [
    {
      "cell_type": "markdown",
      "metadata": {
        "id": "MF99dUTdhQ0G",
        "colab_type": "text"
      },
      "source": [
        "## Karatsuba Multiplication"
      ]
    },
    {
      "cell_type": "code",
      "metadata": {
        "id": "gfe1k5yNjVXI",
        "colab_type": "code",
        "colab": {}
      },
      "source": [
        "def kara_mul(x, y):\n",
        "    if len(str(x)) == 1 or len(str(y)) == 1:\n",
        "        return x * y\n",
        "    \n",
        "    n = max(len(str(x)), len(str(y))) // 2\n",
        "    a, b = divmod(x, 10 ** n)\n",
        "    c, d = divmod(y, 10 ** n)\n",
        "    ac = kara_mul(a, c)\n",
        "    bd = kara_mul(b, d)\n",
        "    ad_bc = kara_mul(a+b, c+d) - ac - bd\n",
        "    return (ac * (10 ** (2 * n))) + (ad_bc * (10 ** n)) + bd\n",
        "\n",
        "assert kara_mul(102854, 29475) == 102854 * 29475"
      ],
      "execution_count": 0,
      "outputs": []
    },
    {
      "cell_type": "markdown",
      "metadata": {
        "id": "xaoOGwnLk9XZ",
        "colab_type": "text"
      },
      "source": [
        "## Merge Sort"
      ]
    },
    {
      "cell_type": "code",
      "metadata": {
        "id": "4Vy0Ue2qnfYf",
        "colab_type": "code",
        "colab": {
          "base_uri": "https://localhost:8080/",
          "height": 34
        },
        "outputId": "ce4cc5a0-a1a5-4b56-96d8-54fdef14bbd7"
      },
      "source": [
        "# merge sort need O(n) space to perform but really allocates O(log(n))\n",
        "def merge(a1, a2):\n",
        "    i, j = 0, 0\n",
        "    a = []\n",
        "    while i < len(a1) and j < len(a2):\n",
        "        if a1[i] <= a2[j]:\n",
        "            a.append(a1[i])\n",
        "            i += 1\n",
        "        else:\n",
        "            a.append(a2[j])\n",
        "            j += 1\n",
        "    if i < len(a1):\n",
        "        a.extend(a1[i:])\n",
        "    elif j < len(a2):\n",
        "        a.extend(a2[j:])\n",
        "    return a\n",
        "\n",
        "def merge_sort(arr):\n",
        "    if len(arr) <= 1:\n",
        "        return arr\n",
        "    m = len(arr) // 2\n",
        "    left = merge_sort(arr[:m])\n",
        "    right = merge_sort(arr[m:])\n",
        "    return merge(left, right)\n",
        "\n",
        "print(merge_sort([294, 837, 83, 17, 3, 93, 9273, 92, 1]))"
      ],
      "execution_count": 18,
      "outputs": [
        {
          "output_type": "stream",
          "text": [
            "[1, 3, 17, 83, 92, 93, 294, 837, 9273]\n"
          ],
          "name": "stdout"
        }
      ]
    },
    {
      "cell_type": "markdown",
      "metadata": {
        "id": "kkOItRJDrHsT",
        "colab_type": "text"
      },
      "source": [
        "## Counting Inversions"
      ]
    },
    {
      "cell_type": "code",
      "metadata": {
        "id": "OyTBkDZK6GYF",
        "colab_type": "code",
        "colab": {
          "base_uri": "https://localhost:8080/",
          "height": 51
        },
        "outputId": "2e3a06aa-0e9f-4eed-85d8-17e2dfe2d615"
      },
      "source": [
        "def merge(a1, a2):\n",
        "    i, j, count = 0, 0, 0\n",
        "    a = [] # combines a1 and a2 (sorted)\n",
        "    while i < len(a1) and j < len(a2):\n",
        "        if a1[i] <= a2[j]:\n",
        "            a.append(a1[i])\n",
        "            i += 1\n",
        "        else:\n",
        "            a.append(a2[j])\n",
        "            j += 1\n",
        "            count += len(a1) - i\n",
        "    if i < len(a1):\n",
        "        a.extend(a1[i:])\n",
        "    elif j < len(a2):\n",
        "        a.extend(a2[j:])\n",
        "    return a, count\n",
        "\n",
        "def count_inv(arr):\n",
        "    if len(arr) == 1:\n",
        "        return arr, 0\n",
        "    m = len(arr) // 2\n",
        "    l_sorted, l_count = count_inv(arr[:m])\n",
        "    r_sorted, r_count = count_inv(arr[m:])\n",
        "    arr_sorted, arr_count = merge(l_sorted, r_sorted)\n",
        "    return arr_sorted, l_count + r_count + arr_count\n",
        "\n",
        "print(count_inv([6,5,4,3,2,1]))\n",
        "print(count_inv([1,2,3,4,5,6]))"
      ],
      "execution_count": 34,
      "outputs": [
        {
          "output_type": "stream",
          "text": [
            "([1, 2, 3, 4, 5, 6], 15)\n",
            "([1, 2, 3, 4, 5, 6], 0)\n"
          ],
          "name": "stdout"
        }
      ]
    },
    {
      "cell_type": "markdown",
      "metadata": {
        "id": "XwTiZh0qo5Ai",
        "colab_type": "text"
      },
      "source": [
        "## Quick Sort"
      ]
    },
    {
      "cell_type": "code",
      "metadata": {
        "id": "3q6CtNbDEOLc",
        "colab_type": "code",
        "colab": {
          "base_uri": "https://localhost:8080/",
          "height": 51
        },
        "outputId": "96a9be71-3f56-415f-e9d6-fb5d33ffb30f"
      },
      "source": [
        "import random\n",
        "\n",
        "def partition(a, l, r):\n",
        "    a[l], a[r] = a[r], a[l]\n",
        "    p = a[l]\n",
        "    i = j = l + 1\n",
        "    while j <= r:\n",
        "        if a[j] <= p:\n",
        "            a[j], a[i] = a[i], a[j]\n",
        "            i += 1\n",
        "        j += 1\n",
        "    a[l], a[i-1] = a[i-1], a[l]\n",
        "    return i-1\n",
        "\n",
        "def quickSort(a, l, r):\n",
        "    if (l < r):\n",
        "        pivotIndex = random.randrange(l, r)\n",
        "        a[r], a[pivotIndex] = a[pivotIndex], a[r]\n",
        "        pivotIndex = partition(a, l, r)\n",
        "        quickSort(a, l, pivotIndex-1)\n",
        "        quickSort(a, pivotIndex+1, r)\n",
        "\n",
        "array = [8,2,4,3,7,5,6,1,0,9]\n",
        "print(array)\n",
        "quickSort(array, 0, len(array)-1)\n",
        "print(array)"
      ],
      "execution_count": 2,
      "outputs": [
        {
          "output_type": "stream",
          "text": [
            "[8, 2, 4, 3, 7, 5, 6, 1, 0, 9]\n",
            "[0, 1, 2, 3, 4, 5, 6, 7, 8, 9]\n"
          ],
          "name": "stdout"
        }
      ]
    },
    {
      "cell_type": "markdown",
      "metadata": {
        "id": "yw4habR5rLUo",
        "colab_type": "text"
      },
      "source": [
        "## QuickSelect (kth smallest)"
      ]
    },
    {
      "cell_type": "code",
      "metadata": {
        "id": "OFbMfI1N2e-t",
        "colab_type": "code",
        "colab": {
          "base_uri": "https://localhost:8080/",
          "height": 34
        },
        "outputId": "bc1852d5-324d-4dec-92f0-7ca1db804016"
      },
      "source": [
        "def partition(a, l, r, p_i):\n",
        "    p = a[p_i]\n",
        "    a[p_i], a[r] = a[r], a[p_i]\n",
        "    i = l\n",
        "    for j in range(l, r):\n",
        "        if a[j] < p:\n",
        "            a[j], a[i] = a[i], a[j]\n",
        "            i += 1\n",
        "    a[i], a[r] = a[r], a[i]\n",
        "    return i\n",
        "\n",
        "def quickSelect(a, l, r, k):\n",
        "    if l == r:\n",
        "        return a[l]\n",
        "    p_i = random.randint(l, r)\n",
        "    p_i = partition(a, l, r, p_i)\n",
        "    if k-1 == p_i:\n",
        "        return a[p_i]\n",
        "    elif k-1 > p_i:\n",
        "        return quickSelect(a, p_i+1, r, k)\n",
        "    else:\n",
        "        return quickSelect(a, l, p_i-1, k)\n",
        "\n",
        "array = [8,2,4,3,7,5,6,1,0,9]\n",
        "\n",
        "for i in range(1, 11):\n",
        "    print(quickSelect(array, 0, len(array)-1, i), end=\", \")"
      ],
      "execution_count": 3,
      "outputs": [
        {
          "output_type": "stream",
          "text": [
            "0, 1, 2, 3, 4, 5, 6, 7, 8, 9, "
          ],
          "name": "stdout"
        }
      ]
    },
    {
      "cell_type": "markdown",
      "metadata": {
        "id": "yu1JVYhoo2Lb",
        "colab_type": "text"
      },
      "source": [
        "## Min Path in DAG"
      ]
    },
    {
      "cell_type": "code",
      "metadata": {
        "id": "LhNrqcqco6sH",
        "colab_type": "code",
        "colab": {
          "base_uri": "https://localhost:8080/",
          "height": 119
        },
        "outputId": "4c1e6c83-80ca-4123-9116-3f3d74f7a7a2"
      },
      "source": [
        "from collections import defaultdict, deque\n",
        "\n",
        "# idea is to do a topo sort, then iterate over topo sort to update weights\n",
        "class Graph:\n",
        "    def __init__(self, vertices):\n",
        "        self.V = vertices\n",
        "        self.graph = defaultdict(list)\n",
        "    \n",
        "    def addEdge(self, u, v, w):\n",
        "        self.graph[u].append((v, w))\n",
        "    \n",
        "    def topoSort(self, u, visited, topo):\n",
        "        visited.add(u)\n",
        "        for v, w in self.graph[u]:\n",
        "            if v not in visited:\n",
        "                self.topoSort(v, visited, topo)\n",
        "        topo.appendleft(u)\n",
        "    \n",
        "    def shortestPath(self, s):\n",
        "        visited, topo = set(), deque()\n",
        "        for i in range(self.V):\n",
        "            if i not in visited:\n",
        "                self.topoSort(i, visited, topo)\n",
        "        \n",
        "        dist = [float(\"inf\")] * self.V\n",
        "        dist[s] = 0\n",
        "\n",
        "        for u in topo:\n",
        "            for v, w in self.graph[u]:\n",
        "                dist[v] = min(dist[v], dist[u] + w)\n",
        "        \n",
        "        for i in range(self.V):\n",
        "            print(f\"distance to {i} is {dist[i]}\")\n",
        "\n",
        "    def longestPath(self, s):\n",
        "        visited, topo = set(), deque()\n",
        "        for i in range(self.V):\n",
        "            if i not in visited:\n",
        "                self.topoSort(i, visited, topo)\n",
        "        \n",
        "        dist = [float(\"-inf\")] * self.V\n",
        "        dist[s] = 0\n",
        "\n",
        "        for u in topo:\n",
        "            for v, w in self.graph[u]:\n",
        "                dist[v] = max(dist[v], dist[u] + w)\n",
        "        \n",
        "        for i in range(self.V):\n",
        "            print(f\"distance to {i} is {dist[i]}\")\n",
        "\n",
        "\n",
        "g = Graph(6) \n",
        "g.addEdge(0, 1, 5)\n",
        "g.addEdge(0, 2, 3)\n",
        "g.addEdge(1, 3, 6)\n",
        "g.addEdge(1, 2, 2) \n",
        "g.addEdge(2, 4, 4) \n",
        "g.addEdge(2, 5, 2) \n",
        "g.addEdge(2, 3, 7) \n",
        "g.addEdge(3, 4, -1) \n",
        "g.addEdge(4, 5, -2)\n",
        "\n",
        "source = 1\n",
        "g.shortestPath(source)"
      ],
      "execution_count": 18,
      "outputs": [
        {
          "output_type": "stream",
          "text": [
            "distance to 0 is inf\n",
            "distance to 1 is 0\n",
            "distance to 2 is 2\n",
            "distance to 3 is 6\n",
            "distance to 4 is 5\n",
            "distance to 5 is 3\n"
          ],
          "name": "stdout"
        }
      ]
    },
    {
      "cell_type": "markdown",
      "metadata": {
        "id": "5IOHmjQgQA0H",
        "colab_type": "text"
      },
      "source": [
        "## Find SCCs (Kosaraju)"
      ]
    },
    {
      "cell_type": "code",
      "metadata": {
        "id": "JbGcK0Fkc3bL",
        "colab_type": "code",
        "colab": {
          "base_uri": "https://localhost:8080/",
          "height": 68
        },
        "outputId": "cca2ff67-0055-46f0-c56e-ac94dc879d03"
      },
      "source": [
        "from collections import defaultdict, deque\n",
        "\n",
        "class Graph:\n",
        "    def __init__(self, vertices):\n",
        "        self.V = vertices\n",
        "        self.graph = defaultdict(list)\n",
        "\n",
        "    def addEdge(self, u, v):\n",
        "        self.graph[u].append(v)\n",
        "    \n",
        "    def getTranspose(self):\n",
        "        graph_t = defaultdict(list)\n",
        "        for u, vs in self.graph.items():\n",
        "            for v in vs:\n",
        "                graph_t[v].append(u)\n",
        "        return graph_t\n",
        "    \n",
        "    def getFinishes(self, u, finish, visited):\n",
        "        visited.add(u)\n",
        "        for v in self.graph[u]:\n",
        "            if v not in visited:\n",
        "                self.getFinishes(v, finish, visited)\n",
        "        finish.appendleft(u) # note that the finish order is actaully reversed\n",
        "    \n",
        "    def getSCC(self, u, path, visited):\n",
        "        visited.add(u)\n",
        "        for v in self.graph_t[u]:\n",
        "            if v not in visited:\n",
        "                self.getSCC(v, path, visited)\n",
        "        path.appendleft(u)\n",
        "\n",
        "    def printSCCs(self):\n",
        "        self.graph_t = self.getTranspose()\n",
        "\n",
        "        # step 1: fill in the finish orders \n",
        "        finish = deque()\n",
        "        visited = set()\n",
        "        for i in range(self.V):\n",
        "            if i not in visited:\n",
        "                self.getFinishes(i, finish, visited)\n",
        "\n",
        "        # step 2: identify the sccs\n",
        "        visited = set()\n",
        "        paths = []\n",
        "        for u in finish:\n",
        "            if u not in visited:\n",
        "                path = deque()\n",
        "                self.getSCC(u, path, visited)\n",
        "                paths.append(path)\n",
        "\n",
        "        for p in paths:\n",
        "            print(p)\n",
        "\n",
        "\n",
        "g = Graph(5)\n",
        "g.addEdge(1, 0)\n",
        "g.addEdge(0, 2)\n",
        "g.addEdge(2, 1)\n",
        "g.addEdge(0, 3)\n",
        "g.addEdge(3, 4)\n",
        "g.printSCCs()"
      ],
      "execution_count": 24,
      "outputs": [
        {
          "output_type": "stream",
          "text": [
            "deque([0, 1, 2])\n",
            "deque([3])\n",
            "deque([4])\n"
          ],
          "name": "stdout"
        }
      ]
    },
    {
      "cell_type": "markdown",
      "metadata": {
        "id": "HqJx90AnfnBN",
        "colab_type": "text"
      },
      "source": [
        "Find SCCs (Tarjan)"
      ]
    },
    {
      "cell_type": "code",
      "metadata": {
        "id": "GJ69dOsohpqY",
        "colab_type": "code",
        "colab": {
          "base_uri": "https://localhost:8080/",
          "height": 102
        },
        "outputId": "4e168931-300b-4b64-b1c7-44465df1b44d"
      },
      "source": [
        "from collections import defaultdict, deque\n",
        "\n",
        "class Graph:\n",
        "    def __init__(self, vertices):\n",
        "        self.V = vertices\n",
        "        self.graph = defaultdict(list)\n",
        "        self.time = 0 # make sure that time always increase instead of backtrack\n",
        "\n",
        "    def addEdge(self, u, v):\n",
        "        self.graph[u].append(v)\n",
        "    \n",
        "    def getSCCs(self, u, dis, low, stack, stack_set, paths):\n",
        "        dis[u] = low[u] = self.time\n",
        "        self.time += 1\n",
        "        stack.append(u)\n",
        "        stack_set.add(u)\n",
        "\n",
        "        for v in self.graph[u]:\n",
        "            if dis[v] == -1: # we've seen the next node, a cycle!\n",
        "                self.getSCCs(v, dis, low, stack, stack_set, paths)\n",
        "                low[u] = min(low[u], low[v]) # update root low to lowest low in the dfs subtree\n",
        "            elif v in stack_set:\n",
        "                low[u] = min(low[u], dis[v]) # use dis because low[v] might have already been changed\n",
        "\n",
        "        w = -1\n",
        "        if low[u] == dis[u]:\n",
        "            path = deque()\n",
        "            while w != u:\n",
        "                w = stack.pop()\n",
        "                path.appendleft(w) # does not matter to appendleft, just to show order of visit\n",
        "                stack_set.discard(w)\n",
        "            paths.append(path)\n",
        "\n",
        "    def printSCCs(self):\n",
        "        paths = []\n",
        "        dis = [-1] * self.V # discovery time\n",
        "        low = [-1] * self.V # minimum discovery time of subtree rooted with current vertex\n",
        "        stack, stack_set = [], set()\n",
        "        \n",
        "        for u in range(self.V):\n",
        "            if dis[u] == -1:\n",
        "                self.getSCCs(u, dis, low, stack, stack_set, paths)\n",
        "        \n",
        "        for p in paths:\n",
        "            print(p)\n",
        "\n",
        "\n",
        "# g = Graph(5)\n",
        "# g.addEdge(1, 0)\n",
        "# g.addEdge(0, 2)\n",
        "# g.addEdge(2, 1)\n",
        "# g.addEdge(0, 3)\n",
        "# g.addEdge(3, 4)\n",
        "# g.printSCCs()\n",
        "\n",
        "g4 = Graph(11) \n",
        "g4.addEdge(0, 1) \n",
        "g4.addEdge(0, 3) \n",
        "g4.addEdge(1, 2) \n",
        "g4.addEdge(1, 4) \n",
        "g4.addEdge(2, 0) \n",
        "g4.addEdge(2, 6) \n",
        "g4.addEdge(3, 2) \n",
        "g4.addEdge(4, 5) \n",
        "g4.addEdge(4, 6) \n",
        "g4.addEdge(5, 6) 2\n",
        "g4.addEdge(5, 7) \n",
        "g4.addEdge(5, 8) \n",
        "g4.addEdge(5, 9) \n",
        "g4.addEdge(6, 4) \n",
        "g4.addEdge(7, 9) \n",
        "g4.addEdge(8, 9) \n",
        "g4.addEdge(9, 8) \n",
        "g4.printSCCs(); "
      ],
      "execution_count": 1,
      "outputs": [
        {
          "output_type": "stream",
          "text": [
            "deque([9, 8])\n",
            "deque([7])\n",
            "deque([6, 4, 5])\n",
            "deque([0, 1, 2, 3])\n",
            "deque([10])\n"
          ],
          "name": "stdout"
        }
      ]
    },
    {
      "cell_type": "markdown",
      "metadata": {
        "id": "ExkhZlVY9Eqf",
        "colab_type": "text"
      },
      "source": [
        "## Prim's MST"
      ]
    },
    {
      "cell_type": "code",
      "metadata": {
        "id": "VTP0h9dIYnJ5",
        "colab_type": "code",
        "colab": {
          "base_uri": "https://localhost:8080/",
          "height": 68
        },
        "outputId": "cf3d9051-5cdf-4bd9-881a-b7be71812a3b"
      },
      "source": [
        "from collections import defaultdict\n",
        "from heapq import *\n",
        "\n",
        "class MST:\n",
        "    def __init__(self):\n",
        "        pass\n",
        "\n",
        "    def minCostForRepair(self, n, edges, edgesToRepair):\n",
        "        graph = defaultdict(list)\n",
        "        addedEdges = set()\n",
        "\n",
        "        for edge in edgesToRepair:\n",
        "            graph[edge[0]].append((edge[2], edge[1]))\n",
        "            graph[edge[1]].append((edge[2], edge[0]))\n",
        "            addedEdges.add((edge[0], edge[1]))\n",
        "            addedEdges.add((edge[1], edge[0]))\n",
        "\n",
        "        for edge in edges:\n",
        "            if tuple(edge) not in addedEdges:\n",
        "                graph[edge[0]].append((0, edge[1]))\n",
        "                graph[edge[1]].append((0, edge[0]))\n",
        "\n",
        "        res = 0\n",
        "        priorityQueue = [(0, 1)]\n",
        "        heapify(priorityQueue)\n",
        "        visited = set()\n",
        "\n",
        "        while priorityQueue:\n",
        "            minCost, node=heappop(priorityQueue)\n",
        "            if node not in visited:\n",
        "                visited.add(node)\n",
        "                res += minCost\n",
        "                for cost, connectedNode in graph[node]:\n",
        "                    if connectedNode not in visited:\n",
        "                        heappush(priorityQueue, (cost, connectedNode))\n",
        "\n",
        "        return res\n",
        "\n",
        "s = MST()\n",
        "print(s.minCostForRepair(5, [[1, 2], [2, 3], [3, 4], [4, 5], [1, 5]], [[1, 2, 12], [3, 4, 30], [1, 5, 8]]))\n",
        "print(s.minCostForRepair(6, [[1, 2], [2, 3], [4, 5], [3, 5], [1, 6], [2, 4]], [[1, 6, 410], [2, 4, 800]]))\n",
        "print(s.minCostForRepair(6, [[1, 2], [2, 3], [4, 5], [5, 6], [1, 5], [2, 4], [3, 4]], [[1, 5, 110], [2, 4, 84], [3, 4, 79]]))"
      ],
      "execution_count": 3,
      "outputs": [
        {
          "output_type": "stream",
          "text": [
            "20\n",
            "410\n",
            "79\n"
          ],
          "name": "stdout"
        }
      ]
    },
    {
      "cell_type": "markdown",
      "metadata": {
        "id": "AfSxcL5kYykM",
        "colab_type": "text"
      },
      "source": [
        "## Huffman Encoding"
      ]
    },
    {
      "cell_type": "code",
      "metadata": {
        "id": "F2R4JBHL_xU1",
        "colab_type": "code",
        "colab": {
          "base_uri": "https://localhost:8080/",
          "height": 357
        },
        "outputId": "df671b31-37f0-4508-9b39-b57ff57b7f88"
      },
      "source": [
        "from heapq import *\n",
        "from collections import defaultdict, Counter\n",
        " \n",
        "def encode(n2f):\n",
        "    heap = [[weight, [char, \"\"]] for char, weight in n2f.items()]\n",
        "    heapify(heap)\n",
        "\n",
        "    while len(heap) > 1:\n",
        "        # take two minimum freq \"char groups\"\n",
        "        lo = heappop(heap)\n",
        "        hi = heappop(heap)\n",
        "        # update encoding (every char but not weight at index 0)\n",
        "        for pair in lo[1:]:\n",
        "            pair[1] = \"0\" + pair[1]\n",
        "        for pair in hi[1:]:\n",
        "            pair[1] = \"1\" + pair[1]\n",
        "        # weight\n",
        "        weight = lo[0] + hi[0]\n",
        "        # char group\n",
        "        chars = lo[1:] + hi[1:]\n",
        "        # update\n",
        "        heappush(heap, [weight] + chars)\n",
        "    \n",
        "    return sorted(heap[0][1:], key=lambda p: (len(p[-1]), p))\n",
        "\n",
        "txt = \"this is an example for huffman encoding\"\n",
        "huff = encode(Counter(txt))\n",
        "print(\"Symbol\\tWeight\\tHuffman Code\")\n",
        "for p in huff:\n",
        "    print(\"%s\\t%s\\t%s\" % (p[0], symb2freq[p[0]], p[1]))"
      ],
      "execution_count": 19,
      "outputs": [
        {
          "output_type": "stream",
          "text": [
            "Symbol\tWeight\tHuffman Code\n",
            " \t6\t101\n",
            "n\t4\t010\n",
            "a\t3\t1001\n",
            "e\t3\t1100\n",
            "f\t3\t1101\n",
            "h\t2\t0001\n",
            "i\t3\t1110\n",
            "m\t2\t0010\n",
            "o\t2\t0011\n",
            "s\t2\t0111\n",
            "g\t1\t00000\n",
            "l\t1\t00001\n",
            "p\t1\t01100\n",
            "r\t1\t01101\n",
            "t\t1\t10000\n",
            "u\t1\t10001\n",
            "x\t1\t11110\n",
            "c\t1\t111110\n",
            "d\t1\t111111\n"
          ],
          "name": "stdout"
        }
      ]
    },
    {
      "cell_type": "code",
      "metadata": {
        "id": "kqlo6NzvC4id",
        "colab_type": "code",
        "colab": {}
      },
      "source": [
        ""
      ],
      "execution_count": 0,
      "outputs": []
    }
  ]
}
{
 "cells": [
  {
   "cell_type": "markdown",
   "metadata": {
    "graffitiCellId": "id_pxg59hb"
   },
   "source": [
    "# Coin Change\n",
    "\n",
    "You are given coins of different denominations and a total amount of money. Write a function to compute the fewest coins needed to make up that amount. If that amount of money cannot be made up by any combination of the coins, return `-1`.\n",
    "\n",
    "As an example:\n",
    "* Input: `coins = [1, 2, 3]`, `amount = 6`\n",
    "* Output: `2`\n",
    "* Explanation: The output is `2` because we can use `2` coins with value `3`. That is, `6 = 3 + 3`. We could also use `3` coins with value `2` (that is, `6 = 2 + 2 + 2`), but this would use more coins—and the problem specifies we should use the smallest number of coins possible.\n",
    "\n",
    "There's test code below that you can use to check your solution. And at the bottom of the notebook, you'll find two different possible solutions."
   ]
  },
  {
   "cell_type": "code",
   "execution_count": 23,
   "metadata": {
    "graffitiCellId": "id_n12iz5t"
   },
   "outputs": [],
   "source": [
    "def coin_change(coins, amount):\n",
    "    table = {}\n",
    "    \n",
    "    def recurse(rem):\n",
    "        if rem < 0:\n",
    "            return float(\"inf\")\n",
    "        if rem == 0:\n",
    "            return 0\n",
    "        if rem not in table:\n",
    "            table[rem] = min(recurse(rem - c) for c in coins) + 1\n",
    "        return table[rem]\n",
    "    \n",
    "    ans = recurse(amount)\n",
    "    return ans if ans != float(\"inf\") else -1"
   ]
  },
  {
   "cell_type": "code",
   "execution_count": 48,
   "metadata": {},
   "outputs": [],
   "source": [
    "def coin_change(coins, amount):\n",
    "    dp = [0] + [float(\"inf\")] * amount\n",
    "    for i in range(1, len(dp)):\n",
    "        for c in coins:\n",
    "            if c <= i:\n",
    "                dp[i] = min(dp[i], dp[i-c] + 1 if i >= c else float(\"inf\"))\n",
    "    return dp[amount] if dp[amount] != float(\"inf\") else -1"
   ]
  },
  {
   "cell_type": "code",
   "execution_count": 49,
   "metadata": {
    "graffitiCellId": "id_g1vpolv"
   },
   "outputs": [],
   "source": [
    "def test_function(test_case):\n",
    "    arr = test_case[0]\n",
    "    amount = test_case[1]\n",
    "    solution = test_case[2]\n",
    "    output = coin_change(arr, amount)\n",
    "    if output == solution:\n",
    "        print(\"Pass\")\n",
    "    else:\n",
    "        print(\"Fail\")"
   ]
  },
  {
   "cell_type": "code",
   "execution_count": 50,
   "metadata": {
    "graffitiCellId": "id_cqdyyun"
   },
   "outputs": [
    {
     "name": "stdout",
     "output_type": "stream",
     "text": [
      "Pass\n"
     ]
    }
   ],
   "source": [
    "arr = [1,2,5]\n",
    "amount = 11\n",
    "solution = 3\n",
    "test_case = [arr, amount, solution]\n",
    "test_function(test_case)"
   ]
  },
  {
   "cell_type": "code",
   "execution_count": 51,
   "metadata": {
    "graffitiCellId": "id_91p1cz0"
   },
   "outputs": [
    {
     "name": "stdout",
     "output_type": "stream",
     "text": [
      "Pass\n"
     ]
    }
   ],
   "source": [
    "arr = [1,4,5,6]\n",
    "amount = 23\n",
    "solution = 4\n",
    "test_case = [arr, amount, solution]\n",
    "test_function(test_case)"
   ]
  },
  {
   "cell_type": "code",
   "execution_count": 52,
   "metadata": {
    "graffitiCellId": "id_mo17gzo"
   },
   "outputs": [
    {
     "name": "stdout",
     "output_type": "stream",
     "text": [
      "Pass\n"
     ]
    }
   ],
   "source": [
    "arr = [5,7,8]\n",
    "amount = 2\n",
    "solution = -1\n",
    "test_case = [arr, amount, solution]\n",
    "test_function(test_case)"
   ]
  }
 ],
 "metadata": {
  "graffiti": {
   "firstAuthorId": "10694620118",
   "id": "id_0hxxyvu",
   "language": "EN"
  },
  "kernelspec": {
   "display_name": "Python 3",
   "language": "python",
   "name": "python3"
  },
  "language_info": {
   "codemirror_mode": {
    "name": "ipython",
    "version": 3
   },
   "file_extension": ".py",
   "mimetype": "text/x-python",
   "name": "python",
   "nbconvert_exporter": "python",
   "pygments_lexer": "ipython3",
   "version": "3.7.3"
  }
 },
 "nbformat": 4,
 "nbformat_minor": 2
}

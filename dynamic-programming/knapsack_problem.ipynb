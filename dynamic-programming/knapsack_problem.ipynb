{
 "cells": [
  {
   "cell_type": "markdown",
   "metadata": {
    "graffitiCellId": "id_afkw8pd"
   },
   "source": [
    "# Knapsack Problem\n",
    "Now that you saw the dynamic programming solution for the knapsack problem, it's time to implement it. Implement the function `max_value` to return the maximum value given the items (`items`) and the maximum weight of the knapsack (`knapsack_max_weight`). The `items` variable is the type `Item`, which is a [named tuple](https://docs.python.org/3/library/collections.html#collections.namedtuple)."
   ]
  },
  {
   "cell_type": "code",
   "execution_count": 15,
   "metadata": {
    "graffitiCellId": "id_vljhmf7"
   },
   "outputs": [],
   "source": [
    "import collections\n",
    "\n",
    "def max_value(max_weight, items):\n",
    "    dp = [0] * (max_weight + 1)\n",
    "\n",
    "    for t in items:\n",
    "        for w in reversed(range(len(dp))):\n",
    "            if t.w <= w:\n",
    "                dp[w] = max(dp[w], dp[w - t.w] + t.v)\n",
    "\n",
    "    return dp[max_weight]"
   ]
  },
  {
   "cell_type": "code",
   "execution_count": 16,
   "metadata": {},
   "outputs": [],
   "source": [
    "Item = collections.namedtuple('Item', ['w', 'v'])\n",
    "tests = [\n",
    "    {\n",
    "        'correct_output': 14,\n",
    "        'input':\n",
    "            {\n",
    "                'max_weight': 15,\n",
    "                'items': [Item(10, 7), Item(9, 8), Item(5, 6)]}},\n",
    "    {\n",
    "        'correct_output': 13,\n",
    "        'input':\n",
    "            {\n",
    "                'max_weight': 25,\n",
    "                'items': [Item(10, 2), Item(29, 10), Item(5, 7), Item(5, 3), Item(5, 1), Item(24, 12)]}}]\n",
    "for test in tests:\n",
    "    assert test['correct_output'] == max_value(**test['input'])\n",
    "    break"
   ]
  },
  {
   "cell_type": "code",
   "execution_count": null,
   "metadata": {},
   "outputs": [],
   "source": []
  }
 ],
 "metadata": {
  "graffiti": {
   "firstAuthorId": "dev",
   "id": "id_c8cwdgc",
   "language": "EN"
  },
  "kernelspec": {
   "display_name": "Python 3",
   "language": "python",
   "name": "python3"
  },
  "language_info": {
   "codemirror_mode": {
    "name": "ipython",
    "version": 3
   },
   "file_extension": ".py",
   "mimetype": "text/x-python",
   "name": "python",
   "nbconvert_exporter": "python",
   "pygments_lexer": "ipython3",
   "version": "3.7.3"
  }
 },
 "nbformat": 4,
 "nbformat_minor": 2
}

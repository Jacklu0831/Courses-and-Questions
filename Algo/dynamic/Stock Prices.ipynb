{
 "cells": [
  {
   "cell_type": "markdown",
   "metadata": {
    "graffitiCellId": "id_pv982ru"
   },
   "source": [
    "# Stock Prices"
   ]
  },
  {
   "cell_type": "markdown",
   "metadata": {
    "collapsed": true,
    "graffitiCellId": "id_qto2uz2"
   },
   "source": [
    "You are given access to yesterday's stock prices for a single stock. The data is in the form of an array with the stock price in 30 minute intervals from 9:30 a.m EST opening to 4:00 p.m EST closing time. With this data, write a function that returns the maximum profit obtainable. You will need to buy before you can sell.\n",
    "\n",
    "For example, suppose you have the following prices:\n",
    "\n",
    "`prices = [3, 4, 7, 8, 6]`\n",
    "\n",
    ">Note: This is a shortened array, just for the sake of example—a full set of prices for the day would have 13 elements (one price for each 30 minute interval betwen 9:30 and 4:00), as seen in the test cases further down in this notebook.\n",
    "\n",
    "In order to get the maximum profit in this example, you would want to buy at a price of 3 and sell at a price of 8 to yield a maximum profit of 5. In other words, you are looking for the greatest possible difference between two numbers in the array.\n",
    "\n",
    "Fill out the function below and run it against the test cases. Take into consideration the time complexity of your solution. "
   ]
  },
  {
   "cell_type": "code",
   "execution_count": 49,
   "metadata": {
    "graffitiCellId": "id_z7ws71z"
   },
   "outputs": [],
   "source": [
    "def max_returns(prices):\n",
    "    \"\"\"\n",
    "    Calculate maxiumum possible return\n",
    "    \n",
    "    Args:\n",
    "       prices(array): array of prices\n",
    "    Returns:\n",
    "       int: The maximum profit possible\n",
    "    \"\"\"\n",
    "    curr_min_idx = 0\n",
    "    min_idx = curr_min_idx\n",
    "    max_idx = 1\n",
    "    \n",
    "    if len(prices) <= 1:\n",
    "        return\n",
    "    \n",
    "    for i in range(1, len(prices)):\n",
    "        # update new current minimum idx based on price at index alone\n",
    "        if prices[i] < prices[curr_min_idx]:\n",
    "            curr_min_idx = i\n",
    "            \n",
    "        # updat new maximum and minimum index based on different between max and min\n",
    "        print(f\"Compare {arr[max_price_index]} - {arr[min_price_index]} < {arr[index]} - {arr[current_min_price_index]}\")\n",
    "        if prices[max_idx] - prices[min_idx] < prices[i] - prices[curr_min_idx]:\n",
    "            max_idx = i\n",
    "            min_idx = curr_min_idx\n",
    "        \n",
    "        print(curr_min_idx)\n",
    "        print(min_idx, \"<\", max_idx)\n",
    "        assert(min_idx <= max_idx)\n",
    "        \n",
    "    return prices[max_idx] - prices[min_idx]"
   ]
  },
  {
   "cell_type": "markdown",
   "metadata": {
    "graffitiCellId": "id_uc722im"
   },
   "source": [
    "<span class=\"graffiti-highlight graffiti-id_uc722im-id_o4cterg\"><i></i><button>Hide Solution</button></span>"
   ]
  },
  {
   "cell_type": "code",
   "execution_count": 56,
   "metadata": {
    "graffitiCellId": "id_o4cterg"
   },
   "outputs": [],
   "source": [
    "# Solution\n",
    "\n",
    "def max_returns(arr):\n",
    "    \"\"\"\n",
    "    The idea is to pick two dates:\n",
    "        1. buy date\n",
    "        2. sell date\n",
    "    We will keep track of our max profit while iterating over the list\n",
    "    At each step we will make the greedy choice by choosing prices such that our profit is maximum \n",
    "    \"\"\"\n",
    "    min_price_index = 0\n",
    "    max_price_index = 0\n",
    "    current_min_price_index = 0\n",
    "    \n",
    "    if len(arr) < 2:\n",
    "        return\n",
    "    \n",
    "    for index in range(1, len(arr)):\n",
    "        # current minimum price\n",
    "        if arr[index] < arr[current_min_price_index]:\n",
    "            current_min_price_index = index\n",
    "            \n",
    "        # current max profit\n",
    "        if arr[max_price_index] - arr[min_price_index] < arr[index] - arr[current_min_price_index]:\n",
    "            max_price_index = index\n",
    "            min_price_index = current_min_price_index\n",
    "    max_profit = arr[max_price_index] - arr[min_price_index]\n",
    "    return max_profit"
   ]
  },
  {
   "cell_type": "code",
   "execution_count": 45,
   "metadata": {
    "graffitiCellId": "id_plirn7n"
   },
   "outputs": [],
   "source": [
    "# Test Cases\n",
    "def test_function(test_case):\n",
    "    prices = test_case[0]\n",
    "    solution = test_case[1]\n",
    "    output = max_returns(prices)\n",
    "    if output == solution:\n",
    "        print(\"Pass\")\n",
    "    else:\n",
    "        print(\"Fail\")"
   ]
  },
  {
   "cell_type": "code",
   "execution_count": 57,
   "metadata": {},
   "outputs": [
    {
     "name": "stdout",
     "output_type": "stream",
     "text": [
      "Compare 2 - 2 < 2 - 2\n",
      "Compare 2 - 2 < 7 - 2\n",
      "Compare 7 - 2 < 9 - 2\n",
      "Compare 9 - 2 < 9 - 2\n",
      "Compare 9 - 2 < 12 - 2\n",
      "Compare 12 - 2 < 18 - 2\n",
      "Compare 18 - 2 < 23 - 2\n",
      "Compare 23 - 2 < 34 - 2\n",
      "Compare 34 - 2 < 37 - 2\n",
      "Compare 37 - 2 < 45 - 2\n",
      "Compare 45 - 2 < 54 - 2\n",
      "Compare 54 - 2 < 78 - 2\n",
      "Pass\n"
     ]
    }
   ],
   "source": [
    "prices = [2, 2, 7, 9, 9, 12, 18, 23, 34, 37, 45, 54, 78]\n",
    "solution = 76\n",
    "test_case = [prices, solution]\n",
    "test_function(test_case)"
   ]
  },
  {
   "cell_type": "code",
   "execution_count": 58,
   "metadata": {},
   "outputs": [
    {
     "name": "stdout",
     "output_type": "stream",
     "text": [
      "Compare 54 - 54 < 18 - 18\n",
      "Compare 54 - 54 < 37 - 18\n",
      "Compare 37 - 18 < 9 - 9\n",
      "Compare 37 - 18 < 11 - 9\n",
      "Compare 37 - 18 < 48 - 9\n",
      "Compare 48 - 9 < 23 - 9\n",
      "Compare 48 - 9 < 1 - 1\n",
      "Compare 48 - 9 < 7 - 1\n",
      "Compare 48 - 9 < 34 - 1\n",
      "Compare 48 - 9 < 2 - 1\n",
      "Compare 48 - 9 < 45 - 1\n",
      "Compare 45 - 1 < 67 - 1\n",
      "Pass\n"
     ]
    }
   ],
   "source": [
    "prices = [54, 18, 37, 9, 11, 48, 23, 1, 7, 34, 2, 45, 67]\n",
    "solution = 66\n",
    "test_case = [prices, solution]\n",
    "test_function(test_case)"
   ]
  },
  {
   "cell_type": "code",
   "execution_count": 61,
   "metadata": {},
   "outputs": [
    {
     "name": "stdout",
     "output_type": "stream",
     "text": [
      "Compare 78 - 78 < 54 - 54\n",
      "Compare 78 - 78 < 45 - 45\n",
      "Compare 78 - 78 < 37 - 37\n",
      "Compare 78 - 78 < 34 - 34\n",
      "Compare 78 - 78 < 23 - 23\n",
      "Compare 78 - 78 < 18 - 18\n",
      "Compare 78 - 78 < 12 - 12\n",
      "Compare 78 - 78 < 9 - 9\n",
      "Compare 78 - 78 < 9 - 9\n",
      "Compare 78 - 78 < 7 - 7\n",
      "Compare 78 - 78 < 2 - 2\n",
      "Compare 78 - 78 < 2 - 2\n",
      "Pass\n"
     ]
    }
   ],
   "source": [
    "prices = [78, 54, 45, 37, 34, 23, 18, 12, 9, 9, 7, 2, 2]\n",
    "solution = 0\n",
    "test_case = [prices, solution]\n",
    "test_function(test_case)"
   ]
  },
  {
   "cell_type": "code",
   "execution_count": null,
   "metadata": {
    "graffitiCellId": "id_5ixwa9x"
   },
   "outputs": [],
   "source": []
  },
  {
   "cell_type": "code",
   "execution_count": null,
   "metadata": {
    "graffitiCellId": "id_d3q619y"
   },
   "outputs": [],
   "source": []
  }
 ],
 "metadata": {
  "graffiti": {
   "firstAuthorId": "10694620118",
   "id": "id_43ea6fg",
   "language": "EN"
  },
  "kernelspec": {
   "display_name": "Python 3",
   "language": "python",
   "name": "python3"
  },
  "language_info": {
   "codemirror_mode": {
    "name": "ipython",
    "version": 3
   },
   "file_extension": ".py",
   "mimetype": "text/x-python",
   "name": "python",
   "nbconvert_exporter": "python",
   "pygments_lexer": "ipython3",
   "version": "3.6.3"
  },
  "widgets": {
   "state": {},
   "version": "1.1.2"
  }
 },
 "nbformat": 4,
 "nbformat_minor": 2
}

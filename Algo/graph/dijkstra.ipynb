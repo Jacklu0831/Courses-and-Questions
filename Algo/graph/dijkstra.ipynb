{
 "cells": [
  {
   "cell_type": "markdown",
   "metadata": {
    "graffitiCellId": "id_0ojz955"
   },
   "source": [
    "# Dijkstra's Algorithm\n",
    "In this exercise, you'll implement Dijkstra's algorithm. First, let's build the graph.\n",
    "## Graph Representation\n",
    "In order to run Dijkstra's Algorithm, we'll need to add distance to each edge. We'll use the `GraphEdge` class below to represent each edge between a node."
   ]
  },
  {
   "cell_type": "code",
   "execution_count": 1,
   "metadata": {
    "graffitiCellId": "id_popacit"
   },
   "outputs": [],
   "source": [
    "class GraphEdge(object):\n",
    "    def __init__(self, node, distance):\n",
    "        self.node = node\n",
    "        self.distance = distance"
   ]
  },
  {
   "cell_type": "markdown",
   "metadata": {
    "graffitiCellId": "id_ljgv5p0"
   },
   "source": [
    "The new graph representation should look like this:"
   ]
  },
  {
   "cell_type": "code",
   "execution_count": 2,
   "metadata": {
    "graffitiCellId": "id_llarxxs"
   },
   "outputs": [],
   "source": [
    "class GraphNode(object):\n",
    "    def __init__(self, val):\n",
    "        self.value = val\n",
    "        self.edges = []\n",
    "\n",
    "    def add_child(self, node, distance):\n",
    "        self.edges.append(GraphEdge(node, distance))\n",
    "\n",
    "    def remove_child(self, del_node):\n",
    "        if del_node in self.edges:\n",
    "            self.edges.remove(del_node)\n",
    "\n",
    "class Graph(object):\n",
    "    def __init__(self, node_list):\n",
    "        self.nodes = node_list\n",
    "\n",
    "    def add_edge(self, node1, node2, distance):\n",
    "        if node1 in self.nodes and node2 in self.nodes:\n",
    "            node1.add_child(node2, distance)\n",
    "            node2.add_child(node1, distance)\n",
    "\n",
    "    def remove_edge(self, node1, node2):\n",
    "        if node1 in self.nodes and node2 in self.nodes:\n",
    "            node1.remove_child(node2)\n",
    "            node2.remove_child(node1)"
   ]
  },
  {
   "cell_type": "markdown",
   "metadata": {
    "graffitiCellId": "id_2m0r1p6"
   },
   "source": [
    "Now let's create the graph."
   ]
  },
  {
   "cell_type": "code",
   "execution_count": 90,
   "metadata": {
    "graffitiCellId": "id_9zgbdrn"
   },
   "outputs": [],
   "source": [
    "node_a = GraphNode('A')\n",
    "node_b = GraphNode('B')\n",
    "node_c = GraphNode('C')\n",
    "node_d = GraphNode('D')\n",
    "node_e = GraphNode('E')\n",
    "node_f = GraphNode('F')\n",
    "node_g = GraphNode('G')\n",
    "\n",
    "graph = Graph([node_a, node_b, node_c, node_d, node_e, node_d, node_g])\n",
    "graph.add_edge(node_a, node_c, 4)\n",
    "graph.add_edge(node_a, node_d, 6)\n",
    "graph.add_edge(node_a, node_b, 3)\n",
    "graph.add_edge(node_b, node_a, 3)\n",
    "graph.add_edge(node_b, node_d, 4)\n",
    "graph.add_edge(node_c, node_a, 4)\n",
    "graph.add_edge(node_c, node_e, 7)\n",
    "graph.add_edge(node_d, node_b, 4)\n",
    "graph.add_edge(node_d, node_a, 6)\n",
    "graph.add_edge(node_d, node_e, 4)\n",
    "graph.add_edge(node_d, node_f, 5)\n",
    "graph.add_edge(node_e, node_c, 7)\n",
    "graph.add_edge(node_e, node_d, 4)\n",
    "graph.add_edge(node_e, node_g, 4)\n",
    "graph.add_edge(node_f, node_d, 5)\n",
    "graph.add_edge(node_f, node_g, 5)\n",
    "graph.add_edge(node_g, node_e, 4)\n",
    "graph.add_edge(node_g, node_f, 5)"
   ]
  },
  {
   "cell_type": "markdown",
   "metadata": {
    "graffitiCellId": "id_v79ttrc"
   },
   "source": [
    "## Implementation\n",
    "Using what you've learned, implement Dijkstra's Algorithm to find the shortest distance from the \"U\" node to the \"Y\" node. "
   ]
  },
  {
   "cell_type": "code",
   "execution_count": 102,
   "metadata": {
    "graffitiCellId": "id_zx9fvl9"
   },
   "outputs": [
    {
     "name": "stdout",
     "output_type": "stream",
     "text": [
      "Moved to             -   A\n",
      "Distance to it       -   0\n",
      "Path taken           -   A  \n",
      "Original distances   -   B : inf C : inf D : inf E : inf G : inf \n",
      "New distances        -   B : 3  C : 4  D : 6  E : inf  G : inf  \n",
      "\n",
      "Moved to             -   B\n",
      "Distance to it       -   3\n",
      "Path taken           -   A  B  \n",
      "Original distances   -   C : 4 D : 6 E : inf G : inf \n",
      "New distances        -   C : 4  D : 6  E : inf  G : inf  \n",
      "\n",
      "Moved to             -   C\n",
      "Distance to it       -   4\n",
      "Path taken           -   A  B  C  \n",
      "Original distances   -   D : 6 E : inf G : inf \n",
      "New distances        -   D : 6  E : 11  G : inf  \n",
      "\n",
      "Moved to             -   D\n",
      "Distance to it       -   6\n",
      "Path taken           -   A  B  C  D  \n",
      "Original distances   -   E : 11 G : inf \n",
      "New distances        -   E : 10  G : inf  \n",
      "\n",
      "Moved to             -   E\n",
      "Distance to it       -   10\n",
      "Path taken           -   A  B  C  D  E  \n",
      "Original distances   -   G : inf \n",
      "New distances        -   G : 14  \n",
      "\n",
      "Moved to             -   G\n",
      "Distance to it       -   14\n",
      "Path taken           -   A  B  C  D  E  G  \n",
      "Original distances   -   \n",
      "New distances        -   \n",
      "\n",
      "Shortest Distance from A to G is 14\n"
     ]
    }
   ],
   "source": [
    "from math import inf\n",
    "\n",
    "def dijkstra(start_node, end_node):\n",
    "    # initialize dictionary of node distance, start as 0 but infinite for the rest\n",
    "    distance_dict = {node:inf for node in graph.nodes}\n",
    "    distance_dict[start_node] = 0\n",
    "    # gradually move visied nodes from distance_dict to here\n",
    "    shortest_dict = {}\n",
    "    \n",
    "    while len(distance_dict):\n",
    "        # MOVE TO THE NEAREST NODE\n",
    "        # sort distances and visit the node with least distance\n",
    "        curr_node, curr_dist = sorted(distance_dict.items(), key=lambda x: x[1])[0]\n",
    "        shortest_dict[curr_node] = distance_dict.pop(curr_node)\n",
    "        \n",
    "        print(\"Moved to             -  \", curr_node.value)\n",
    "        print(\"Distance to it       -  \", curr_dist)\n",
    "        print(\"Path taken           -   \", end=\"\")\n",
    "        for node in shortest_dict:\n",
    "            print(node.value, end=\"  \")\n",
    "        print()\n",
    "        print(\"Original distances   -   \", end=\"\")\n",
    "        for node in distance_dict:\n",
    "            print(node.value, \":\", distance_dict[node], end=\" \")\n",
    "        print()\n",
    "        \n",
    "        # UPDATE NEW DISTANCES\n",
    "        # check if more optimal distances are available\n",
    "        for edge in curr_node.edges:\n",
    "            if edge.node in distance_dict:\n",
    "                next_dist = curr_dist + edge.distance\n",
    "                distance_dict[edge.node] = min(distance_dict[edge.node], next_dist)\n",
    "                \n",
    "        print(\"New distances        -   \", end=\"\")\n",
    "        for node in distance_dict:\n",
    "            print(node.value, \":\",distance_dict[node], end=\"  \")\n",
    "        print(\"\\n\")\n",
    "        \n",
    "    return shortest_dict[end_node]\n",
    "\n",
    "\n",
    "print('Shortest Distance from {} to {} is {}'.format(node_a.value, node_g.value, dijkstra(node_a, node_g)))"
   ]
  },
  {
   "cell_type": "markdown",
   "metadata": {
    "graffitiCellId": "id_6vmf0hp"
   },
   "source": [
    "<span class=\"graffiti-highlight graffiti-id_6vmf0hp-id_cjtybve\"><i></i><button>Hide Solution</button></span>"
   ]
  },
  {
   "cell_type": "code",
   "execution_count": 92,
   "metadata": {
    "graffitiCellId": "id_cjtybve"
   },
   "outputs": [
    {
     "ename": "KeyError",
     "evalue": "<__main__.GraphNode object at 0x7f2f1105c550>",
     "output_type": "error",
     "traceback": [
      "\u001b[0;31m---------------------------------------------------------------------------\u001b[0m",
      "\u001b[0;31mKeyError\u001b[0m                                  Traceback (most recent call last)",
      "\u001b[0;32m<ipython-input-92-76db9f22d9cb>\u001b[0m in \u001b[0;36m<module>\u001b[0;34m()\u001b[0m\n\u001b[1;32m     27\u001b[0m     \u001b[0;32mreturn\u001b[0m \u001b[0mshortest_path_to_node\u001b[0m\u001b[0;34m[\u001b[0m\u001b[0mend_node\u001b[0m\u001b[0;34m]\u001b[0m\u001b[0;34m\u001b[0m\u001b[0m\n\u001b[1;32m     28\u001b[0m \u001b[0;34m\u001b[0m\u001b[0m\n\u001b[0;32m---> 29\u001b[0;31m \u001b[0mprint\u001b[0m\u001b[0;34m(\u001b[0m\u001b[0;34m'Shortest Distance from {} to {} is {}'\u001b[0m\u001b[0;34m.\u001b[0m\u001b[0mformat\u001b[0m\u001b[0;34m(\u001b[0m\u001b[0mnode_u\u001b[0m\u001b[0;34m.\u001b[0m\u001b[0mvalue\u001b[0m\u001b[0;34m,\u001b[0m \u001b[0mnode_y\u001b[0m\u001b[0;34m.\u001b[0m\u001b[0mvalue\u001b[0m\u001b[0;34m,\u001b[0m \u001b[0mdijkstra\u001b[0m\u001b[0;34m(\u001b[0m\u001b[0mnode_u\u001b[0m\u001b[0;34m,\u001b[0m \u001b[0mnode_y\u001b[0m\u001b[0;34m)\u001b[0m\u001b[0;34m)\u001b[0m\u001b[0;34m)\u001b[0m\u001b[0;34m\u001b[0m\u001b[0m\n\u001b[0m",
      "\u001b[0;32m<ipython-input-92-76db9f22d9cb>\u001b[0m in \u001b[0;36mdijkstra\u001b[0;34m(start_node, end_node)\u001b[0m\n\u001b[1;32m     25\u001b[0m                     \u001b[0mdistance_dict\u001b[0m\u001b[0;34m[\u001b[0m\u001b[0medge\u001b[0m\u001b[0;34m.\u001b[0m\u001b[0mnode\u001b[0m\u001b[0;34m]\u001b[0m \u001b[0;34m=\u001b[0m \u001b[0mnew_node_distance\u001b[0m\u001b[0;34m\u001b[0m\u001b[0m\n\u001b[1;32m     26\u001b[0m \u001b[0;34m\u001b[0m\u001b[0m\n\u001b[0;32m---> 27\u001b[0;31m     \u001b[0;32mreturn\u001b[0m \u001b[0mshortest_path_to_node\u001b[0m\u001b[0;34m[\u001b[0m\u001b[0mend_node\u001b[0m\u001b[0;34m]\u001b[0m\u001b[0;34m\u001b[0m\u001b[0m\n\u001b[0m\u001b[1;32m     28\u001b[0m \u001b[0;34m\u001b[0m\u001b[0m\n\u001b[1;32m     29\u001b[0m \u001b[0mprint\u001b[0m\u001b[0;34m(\u001b[0m\u001b[0;34m'Shortest Distance from {} to {} is {}'\u001b[0m\u001b[0;34m.\u001b[0m\u001b[0mformat\u001b[0m\u001b[0;34m(\u001b[0m\u001b[0mnode_u\u001b[0m\u001b[0;34m.\u001b[0m\u001b[0mvalue\u001b[0m\u001b[0;34m,\u001b[0m \u001b[0mnode_y\u001b[0m\u001b[0;34m.\u001b[0m\u001b[0mvalue\u001b[0m\u001b[0;34m,\u001b[0m \u001b[0mdijkstra\u001b[0m\u001b[0;34m(\u001b[0m\u001b[0mnode_u\u001b[0m\u001b[0;34m,\u001b[0m \u001b[0mnode_y\u001b[0m\u001b[0;34m)\u001b[0m\u001b[0;34m)\u001b[0m\u001b[0;34m)\u001b[0m\u001b[0;34m\u001b[0m\u001b[0m\n",
      "\u001b[0;31mKeyError\u001b[0m: <__main__.GraphNode object at 0x7f2f1105c550>"
     ]
    }
   ],
   "source": [
    "import math\n",
    "\n",
    "def dijkstra(start_node, end_node):\n",
    "    # initialize a list of nodes as infinite distance, but current as 0\n",
    "    distance_dict = {node: math.inf for node in graph.nodes}    \n",
    "    distance_dict[start_node] = 0\n",
    "    \n",
    "    # records the distance to each node\n",
    "    shortest_path_to_node = {}\n",
    "    \n",
    "    while distance_dict:\n",
    "        # MOVE TO THE NEAREST NODE\n",
    "        # sorted according to distances, pop the first one (shortest)\n",
    "        current_node, node_distance = sorted(distance_dict.items(), key=lambda x: x[1])[0]\n",
    "              \n",
    "        # move node-distance pair from dict to shortest path\n",
    "        shortest_path_to_node[current_node] = distance_dict.pop(current_node)\n",
    "            \n",
    "        # UPDATE NEW OPTIONS\n",
    "        for edge in current_node.edges:\n",
    "            if edge.node in distance_dict:\n",
    "                # new distance = distance to current + edge distance to next\n",
    "                new_node_distance = node_distance + edge.distance\n",
    "                if distance_dict[edge.node] > new_node_distance:\n",
    "                    distance_dict[edge.node] = new_node_distance\n",
    "        \n",
    "    return shortest_path_to_node[end_node]\n",
    "\n",
    "print('Shortest Distance from {} to {} is {}'.format(node_u.value, node_y.value, dijkstra(node_u, node_y)))"
   ]
  },
  {
   "cell_type": "code",
   "execution_count": null,
   "metadata": {
    "graffitiCellId": "id_ejvp6ha"
   },
   "outputs": [],
   "source": []
  }
 ],
 "metadata": {
  "graffiti": {
   "firstAuthorId": "dev",
   "id": "id_xw4if85",
   "language": "EN"
  },
  "kernelspec": {
   "display_name": "Python 3",
   "language": "python",
   "name": "python3"
  },
  "language_info": {
   "codemirror_mode": {
    "name": "ipython",
    "version": 3
   },
   "file_extension": ".py",
   "mimetype": "text/x-python",
   "name": "python",
   "nbconvert_exporter": "python",
   "pygments_lexer": "ipython3",
   "version": "3.6.3"
  }
 },
 "nbformat": 4,
 "nbformat_minor": 2
}
